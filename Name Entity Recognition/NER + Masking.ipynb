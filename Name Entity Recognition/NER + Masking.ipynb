{
 "cells": [
  {
   "cell_type": "markdown",
   "id": "28be40b2",
   "metadata": {},
   "source": [
    "#### Question"
   ]
  },
  {
   "cell_type": "markdown",
   "id": "7ef373ff",
   "metadata": {},
   "source": [
    "##### Task1:\n",
    "\n",
    "- Load any 1000 pages pdf and create a data frame of first 100 pages and extract human names and also mask the names (First and last letter  should not be masked).\n",
    "\n",
    "Expected output:\n",
    "<table>\n",
    "  <colgroup>\n",
    "    <col style=\"width: 5%\">\n",
    "    <col style=\"width: 40%\">\n",
    "    <col style=\"width: 40%\">\n",
    "    <col style=\"width: 15%\">\n",
    "  </colgroup>\n",
    "  <thead>\n",
    "    <tr>\n",
    "      <th>Page Number</th>\n",
    "      <th>Page Content</th>\n",
    "      <th>Masked Content</th>\n",
    "      <th>Extracted Names</th>\n",
    "    </tr>\n",
    "  </thead>\n",
    "  <tbody>\n",
    "    <tr>\n",
    "      <td>1</td>\n",
    "      <td style=\"white-space: normal;\">we are group of 4 people; Narendra was one who is from another city…..........</td>\n",
    "      <td style=\"white-space: normal;\">we are group of 4 people, N******a was one who is from another city…..........</td>\n",
    "      <td>Narendra</td>\n",
    "    </tr>\n",
    "    <tr>\n",
    "      <td>2</td>\n",
    "      <td>...</td>\n",
    "      <td>...</td>\n",
    "      <td>...</td>\n",
    "    </tr>\n",
    "  </tbody>\n",
    "</table>\n",
    "\n",
    "\t\t"
   ]
  },
  {
   "cell_type": "markdown",
   "id": "97f4255b",
   "metadata": {},
   "source": [
    "____________________\n"
   ]
  },
  {
   "cell_type": "markdown",
   "id": "c73af3d4",
   "metadata": {},
   "source": [
    "Let's start with importing the necessary libraries, I am using nltk package to process text. I have researched and found that 'maxent_ne_chunker' is dedicated to extract human names."
   ]
  },
  {
   "cell_type": "markdown",
   "id": "a5f63271",
   "metadata": {},
   "source": [
    "If You want to run the codes   please install nltk,PyMuPdf and   download nltk.download('maxent_ne_chunker')\n",
    "nltk.download('words')"
   ]
  },
  {
   "cell_type": "code",
   "execution_count": null,
   "id": "cad23ac1",
   "metadata": {},
   "outputs": [],
   "source": [
    "import pandas as pd\n",
    "import warnings\n",
    "warnings.filterwarnings('ignore')\n",
    "import fitz\n",
    "import nltk\n",
    "from nltk import sent_tokenize, ne_chunk, word_tokenize, pos_tag"
   ]
  },
  {
   "cell_type": "code",
   "execution_count": 80,
   "id": "19e50647",
   "metadata": {
    "scrolled": true
   },
   "outputs": [],
   "source": [
    "pdf = fitz.open('War and Peace.pdf')\n",
    "\n",
    "page_text_all = []\n",
    "\n",
    "for page_no in range(102):\n",
    "    page = pdf[page_no]\n",
    "    page_text = page.get_text()\n",
    "    page_text_all.append(page_text)"
   ]
  },
  {
   "cell_type": "markdown",
   "id": "bc4832f9",
   "metadata": {},
   "source": [
    "As I can see there are multiple '\\n' in this text, so we'll remove all those"
   ]
  },
  {
   "cell_type": "code",
   "execution_count": 81,
   "id": "e8cad928",
   "metadata": {},
   "outputs": [],
   "source": [
    "import re\n",
    "\n",
    "cleaned_text_all = []\n",
    "\n",
    "for pages in page_text_all:\n",
    "    cleaned_text = re.sub(r'\\n', ' ', pages)\n",
    "    cleaned_text_all.append(cleaned_text)"
   ]
  },
  {
   "cell_type": "markdown",
   "id": "b76be518",
   "metadata": {},
   "source": [
    "I am encounter the page header in each page in this pattern: \"War and Peace    25 of 2882 \" this has no need so we can remove it"
   ]
  },
  {
   "cell_type": "code",
   "execution_count": 82,
   "id": "d71c141e",
   "metadata": {},
   "outputs": [],
   "source": [
    "pattern = r'War and Peace\\s+\\d+\\s+of\\s+\\d+'\n",
    "\n",
    "cleaned_doc_all = []\n",
    "\n",
    "for pages in cleaned_text_all:\n",
    "    cleaned_doc = re.sub(pattern, ' ', pages)\n",
    "    cleaned_doc_all.append(cleaned_doc)"
   ]
  },
  {
   "cell_type": "markdown",
   "id": "1c6ec5de",
   "metadata": {},
   "source": [
    "Removing the 'CHAPTER ...'"
   ]
  },
  {
   "cell_type": "code",
   "execution_count": 83,
   "id": "5b3e186f",
   "metadata": {},
   "outputs": [],
   "source": [
    "pattern = r'Chapter (I|II|III|IV|V|VI|VII|VIII|IX|X|XI|XII|XIII|XIV):'\n",
    "\n",
    "Cleaned_doc_all_2 = []\n",
    "\n",
    "for pages in cleaned_doc_all:\n",
    "    cleaned_doc_2= re.sub(pattern, ' ',pages)\n",
    "    Cleaned_doc_all_2.append(cleaned_doc_2)"
   ]
  },
  {
   "cell_type": "markdown",
   "id": "a183652c",
   "metadata": {},
   "source": [
    "There is no need of first 2 pages as it contains none of our important info"
   ]
  },
  {
   "cell_type": "code",
   "execution_count": 84,
   "id": "462586df",
   "metadata": {},
   "outputs": [],
   "source": [
    "final_text = Cleaned_doc_all_2[2:]"
   ]
  },
  {
   "cell_type": "markdown",
   "id": "75cef133",
   "metadata": {},
   "source": [
    "Now Let's remove extra spaces and Punctuation marks"
   ]
  },
  {
   "cell_type": "code",
   "execution_count": 85,
   "id": "5cc3aed5",
   "metadata": {},
   "outputs": [],
   "source": [
    "from nltk.corpus import stopwords\n",
    "stop_words = set(stopwords.words('english'))\n",
    "\n",
    "filtered_paragraphs = []\n",
    "\n",
    "for paragraph in final_text:\n",
    "\n",
    "    words = word_tokenize(paragraph)\n",
    "\n",
    "    filtered_words = [word for word in words if word.lower() not in stop_words]\n",
    "\n",
    "    filtered_paragraph = ' '.join(filtered_words)\n",
    "\n",
    "    filtered_paragraphs.append(filtered_paragraph)\n"
   ]
  },
  {
   "cell_type": "code",
   "execution_count": 86,
   "id": "a27f3c9d",
   "metadata": {},
   "outputs": [],
   "source": [
    "import string\n",
    "\n",
    "processed_pages = []\n",
    "\n",
    "for page in filtered_paragraphs:\n",
    "\n",
    "    page_without_punctuation = ''.join([word for word in page if word not in string.punctuation])\n",
    "    \n",
    "    processed_pages.append(page_without_punctuation)"
   ]
  },
  {
   "cell_type": "markdown",
   "id": "a53ef8ac",
   "metadata": {},
   "source": [
    "Removing \"‘\" and \"’\""
   ]
  },
  {
   "cell_type": "code",
   "execution_count": 87,
   "id": "2d801ee6",
   "metadata": {},
   "outputs": [],
   "source": [
    "processed_text = list(map(lambda x:x.replace(\"‘\", \"\").replace(\"’\", \"\"),processed_pages))"
   ]
  },
  {
   "cell_type": "markdown",
   "id": "5f6a0711",
   "metadata": {},
   "source": [
    "Now these texts are ready to go through Name extraction process"
   ]
  },
  {
   "cell_type": "markdown",
   "id": "72462ba6",
   "metadata": {},
   "source": [
    "I can do all the above steps in one short code but I went step by step to clarify each process in more clear way. If I want to do all the above in one go I would have taken this approach"
   ]
  },
  {
   "cell_type": "markdown",
   "id": "2dfb99bd",
   "metadata": {},
   "source": [
    "Now Let's extract names"
   ]
  },
  {
   "cell_type": "code",
   "execution_count": 88,
   "id": "93886445",
   "metadata": {},
   "outputs": [],
   "source": [
    "data = { \n",
    "    \"Page_Number\": [],\n",
    "    \"Page_Content\": [],\n",
    "    \"Processed_Masked_Content\": [],\n",
    "}\n",
    "\n",
    "df = pd.DataFrame(data)"
   ]
  },
  {
   "cell_type": "code",
   "execution_count": 89,
   "id": "4ff2e1e9",
   "metadata": {},
   "outputs": [],
   "source": [
    "df[\"Page_Number\"] = list(range(1, 101))\n",
    "df[\"Page_Content\"] = page_text_all[:100]\n",
    "df[\"Processed_Masked_Content\"] =processed_text"
   ]
  },
  {
   "cell_type": "code",
   "execution_count": 90,
   "id": "f3a51c26",
   "metadata": {},
   "outputs": [
    {
     "data": {
      "text/html": [
       "<div>\n",
       "<style scoped>\n",
       "    .dataframe tbody tr th:only-of-type {\n",
       "        vertical-align: middle;\n",
       "    }\n",
       "\n",
       "    .dataframe tbody tr th {\n",
       "        vertical-align: top;\n",
       "    }\n",
       "\n",
       "    .dataframe thead th {\n",
       "        text-align: right;\n",
       "    }\n",
       "</style>\n",
       "<table border=\"1\" class=\"dataframe\">\n",
       "  <thead>\n",
       "    <tr style=\"text-align: right;\">\n",
       "      <th></th>\n",
       "      <th>Page_Number</th>\n",
       "      <th>Page_Content</th>\n",
       "      <th>Processed_Masked_Content</th>\n",
       "    </tr>\n",
       "  </thead>\n",
       "  <tbody>\n",
       "    <tr>\n",
       "      <th>0</th>\n",
       "      <td>1</td>\n",
       "      <td>\\nWar and Peace \\nLeo Tolstoy \\n \\n \\n \\n \\n ...</td>\n",
       "      <td>Chapter  Well  Prince  Genoa Lucca family esta...</td>\n",
       "    </tr>\n",
       "    <tr>\n",
       "      <th>1</th>\n",
       "      <td>2</td>\n",
       "      <td>War and Peace \\n \\n2 of 2882 \\nBOOK ONE: 1805 \\n</td>\n",
       "      <td>nothing better  Count  Prince   prospect spen...</td>\n",
       "    </tr>\n",
       "    <tr>\n",
       "      <th>2</th>\n",
       "      <td>3</td>\n",
       "      <td>War and Peace \\n \\n3 of 2882 \\nChapter I \\n‘We...</td>\n",
       "      <td>fete English ambassador   Today Wednesday  mu...</td>\n",
       "    </tr>\n",
       "    <tr>\n",
       "      <th>3</th>\n",
       "      <td>4</td>\n",
       "      <td>War and Peace \\n \\n4 of 2882 \\n‘If you have no...</td>\n",
       "      <td>spoiled child  continual consciousness charmin...</td>\n",
       "    </tr>\n",
       "    <tr>\n",
       "      <th>4</th>\n",
       "      <td>5</td>\n",
       "      <td>War and Peace \\n \\n5 of 2882 \\n‘And the fete a...</td>\n",
       "      <td>desires good mankind  promised  Nothing  littl...</td>\n",
       "    </tr>\n",
       "    <tr>\n",
       "      <th>...</th>\n",
       "      <td>...</td>\n",
       "      <td>...</td>\n",
       "      <td>...</td>\n",
       "    </tr>\n",
       "    <tr>\n",
       "      <th>95</th>\n",
       "      <td>96</td>\n",
       "      <td>War and Peace \\n \\n96 of 2882 \\nShe was experi...</td>\n",
       "      <td>funny   said  bending blushing still  waited ...</td>\n",
       "    </tr>\n",
       "    <tr>\n",
       "      <th>96</th>\n",
       "      <td>97</td>\n",
       "      <td>War and Peace \\n \\n97 of 2882 \\n‘Oh, how nice,...</td>\n",
       "      <td>Chapter XIV receiving visitors  countess tired...</td>\n",
       "    </tr>\n",
       "    <tr>\n",
       "      <th>97</th>\n",
       "      <td>98</td>\n",
       "      <td>War and Peace \\n \\n98 of 2882 \\n‘How funny you...</td>\n",
       "      <td>told sooner  Mamma  would gone   replied rose...</td>\n",
       "    </tr>\n",
       "    <tr>\n",
       "      <th>98</th>\n",
       "      <td>99</td>\n",
       "      <td>War and Peace \\n \\n99 of 2882 \\nChapter XIV \\n...</td>\n",
       "      <td>age secrets Natasha Boris  two   nonsense    ...</td>\n",
       "    </tr>\n",
       "    <tr>\n",
       "      <th>99</th>\n",
       "      <td>100</td>\n",
       "      <td>War and Peace \\n \\n100 of 2882 \\n‘If you had t...</td>\n",
       "      <td>nickname  bestowed Vera Nicholas  considered s...</td>\n",
       "    </tr>\n",
       "  </tbody>\n",
       "</table>\n",
       "<p>100 rows × 3 columns</p>\n",
       "</div>"
      ],
      "text/plain": [
       "    Page_Number                                       Page_Content  \\\n",
       "0             1   \\nWar and Peace \\nLeo Tolstoy \\n \\n \\n \\n \\n ...   \n",
       "1             2   War and Peace \\n \\n2 of 2882 \\nBOOK ONE: 1805 \\n   \n",
       "2             3  War and Peace \\n \\n3 of 2882 \\nChapter I \\n‘We...   \n",
       "3             4  War and Peace \\n \\n4 of 2882 \\n‘If you have no...   \n",
       "4             5  War and Peace \\n \\n5 of 2882 \\n‘And the fete a...   \n",
       "..          ...                                                ...   \n",
       "95           96  War and Peace \\n \\n96 of 2882 \\nShe was experi...   \n",
       "96           97  War and Peace \\n \\n97 of 2882 \\n‘Oh, how nice,...   \n",
       "97           98  War and Peace \\n \\n98 of 2882 \\n‘How funny you...   \n",
       "98           99  War and Peace \\n \\n99 of 2882 \\nChapter XIV \\n...   \n",
       "99          100  War and Peace \\n \\n100 of 2882 \\n‘If you had t...   \n",
       "\n",
       "                             Processed_Masked_Content  \n",
       "0   Chapter  Well  Prince  Genoa Lucca family esta...  \n",
       "1    nothing better  Count  Prince   prospect spen...  \n",
       "2    fete English ambassador   Today Wednesday  mu...  \n",
       "3   spoiled child  continual consciousness charmin...  \n",
       "4   desires good mankind  promised  Nothing  littl...  \n",
       "..                                                ...  \n",
       "95   funny   said  bending blushing still  waited ...  \n",
       "96  Chapter XIV receiving visitors  countess tired...  \n",
       "97   told sooner  Mamma  would gone   replied rose...  \n",
       "98   age secrets Natasha Boris  two   nonsense    ...  \n",
       "99  nickname  bestowed Vera Nicholas  considered s...  \n",
       "\n",
       "[100 rows x 3 columns]"
      ]
     },
     "execution_count": 90,
     "metadata": {},
     "output_type": "execute_result"
    }
   ],
   "source": [
    "df"
   ]
  },
  {
   "cell_type": "code",
   "execution_count": 91,
   "id": "81ba6fa2",
   "metadata": {},
   "outputs": [],
   "source": [
    "def extract_names(text):\n",
    "    names = set()\n",
    "    words = word_tokenize(text)\n",
    "    tagged = pos_tag(words)\n",
    "    named_entities = ne_chunk(tagged)\n",
    "    for subtree in named_entities:\n",
    "        if type(subtree) == nltk.Tree and subtree.label() == 'PERSON':\n",
    "            name = ' '.join([word for word, tag in subtree.leaves()])\n",
    "            names.add(name)\n",
    "    return ', '.join(names) if names else None\n",
    "\n",
    "df['Extracted_names'] = df[\"Processed_Masked_Content\"].apply(extract_names)\n"
   ]
  },
  {
   "cell_type": "markdown",
   "id": "6498db04",
   "metadata": {},
   "source": [
    "Let's check if it captures some errors , I'll remove it manually"
   ]
  },
  {
   "cell_type": "code",
   "execution_count": 94,
   "id": "85549821",
   "metadata": {
    "scrolled": true
   },
   "outputs": [
    {
     "name": "stdout",
     "output_type": "stream",
     "text": [
      "Anna Pavlovna, Anna Pavlovna Scherer, Prince Vasili Kuragin, Chapter, St Petersburg, AntichristCount Prince, Annette Scherer Heavens, Anna PavlovnaVasili, Well, Buonaparte, Anna Pavlovna SchererAlexander, Anna Pavlovna, Malta, Emperor, None EnglishPrussia, Mortemart, Emperor, Haugwitz, Abbe MorioAnna Pavlovna, Dowager Empress Marya Fedorovna, Vasili, Dowager Empress, Baron Funke, Majesty, Empress, Empress Anna Pavlovna, ViennaLavaterMajesty, Anna Pavlovna, AnatolePresently, Arrange, Anna Pavlovna, Annette, Lise Meinen, Emperor, Kutuzov, BolkonskiLise, Anna Pavlovna, AttendezAnna Pavlovna, Helene, Mortemart, Prince Vasili, Chapter, Abbe MorioMajesty, Anna PavlovnaAnna Pavlovna, SoyezAnna Pavlovna, Count Bezukhov, Pierre, Prince Vasili, Prince Vasili Anna Pavlovna OneYes, Anna Pavlovna, Pierre, Abbe Morio, FirstPierre, Anna Pavlovna, PetersburgMorioChapter, Anna Pavlovna, Mortemart Anna PavlovnaAnna Pavlovna, Buonaparte, Mortemart, Vicomte, Louis XV, Duc EnghienAnna Pavlovna Helene, Anna PavlovnaHelene Wait, Prince Hippolyte Fetch, Anna Pavlovna, MadameHippolyteAnna Pavlovna, Bonaparte, Napoleon, Prince Hippolyte, Mademoiselle George, Duc EnghienPierre, Anna PavlovnaPierre, Anna PavlovnaAnna Pavlovna, Chapter IV, Andrew Bolkonski, Prince, Lise, Frenchman, Kutuzov, BolkonskiPrince Andrew, George Buonaparte Prince, Pierre, Andrew, AndrePrince Vasili Frenchman, Anna Pavlovna, Prince Andrew, Pierre, Prince Vasili, Vicomte, Anna Pavlovna EducateBoris Prince, Prince Vasili, Guards, Emperor, Petersburg Tell, Rumyantsev Prince Golitsyn, Petersburg, Believe PrincessListen Prince, Anna Pavlovna, Golitsyn, Papa, Vasili, Princess HelenePrince Vasili, Guards, Anna Mikhaylovna, Michael Ilarionovich Kutuzov, Boris, WaitGoodby, Papa, Vasili, Anna Mikhaylovna, KutuzovAnna Pavlovna, Dieu, Guai, Andrew, Milan, Genoa Lucca, Monsieur Buonaparte Monsieur Buonaparte, Chapter VLouis XVII Queen Madame Elizabeth Nothing, Conde, Baton, BourbonAnna Pavlovna, Pierre, Bonaparte, Vicomte, Imperial, Emperor Alexander, Prince Andrew MonsieurAnna Pavlovna, Prince Andrew, Pierre, Andrew, Bonaparte, Monsieur Pierre, Napoleon, Duc EnghienAnna Pavlovna, Capital, Dieu Mon Dieu, Pierre, Anna Pavlovna Pierre, Bourbons, Prince Hippolyte EnglishMonsieur Pierre, Yes, Bourbons, Anna Pavlovna Rousseau ContratLiberty, Buonaparte, Anna Pavlovna, Pierre, Andrew, Saviour, NapoleonPierre, Jacobin, Prince Andrew, Prince Hippolyte PierreExcuse Vicomte, Hippolyte, Arcola, Pierre, Andrew, Jaffa, Prince Hippolyte, Andrew NapoleonHippolyte, Girl, Anna Pavlovna, Pierre, Oh, Prince HippolyteMonsieur Pierre, Pierre, Anna Pavlovna, Chapter VIAnna Pavlovna, Hippolyte, Prince Andrew, Write, Anatole, AnnetteEither, Prince HippolyteHippolyte, Prince Andrew Russian, Pierre, Allow, Prince HippolyteHippolyte, Prince Andrew, Pierre, Andrew, Mlle Scherer, Caesar CommentariesPrince Andrew, Pierre, Write, Horse Guards, Andrew, Freemason, PetersburgPierre Prince, Pierre, Andrew, England AustriaAnna Pavlovna, Pierre, Annette, Andrew, Excuse, Chapter, Evidently PierreHippolyte, Pierre, Annette, Andrew, Uncle, Andre, Apraksins, EmperorPierre, Prince AndrewPrince Andrew, Pierre, Andrew, Monsieur Pierre, Lise, Lise PrincePrince Andrew, Pierre, Calm Princess, Andrew, Goodby Prince, LiseMon, Dieu, LiseHalfway, Neither, Pierre, Andrew, Marry, Prince Andrew Prince, ChapterPierre, Bolkonski, Anna Pavlovna, Prince AndrewPierre, Prince Andrew Anna Pavlovna, Bonaparte Bonaparte, BonapartePierre, Andrew, Prince AndrewPierre, Andrew, Prince AndrewPrince Andrew, Andrew Women, Kuragins, Pierre, Anatole, Prince Vasili KuraginPierre, Chapter IX, Andrew, Prince Anatole, Kuragin, Anatole KuraginPierre, Horse Guards, Anatole, Cards, KuraginSemenov, Pierre, Bruin, Anatole Pierre, Anatole, Petya Good, Pierre First, Dolokhov, Stevens, Jacob, WaitPierre, Anatole, Stevens English, Anatole Pierre Dolokhov, EnglishmanAnatole, Pierre Pierre, Hercules, Dolokhov, Petersburg, Anatole Dolokhov, Kuragin DolokhovPierre, Dolokhov, Dolokhov Englishman, Anatole Firstrate, Englishman, Listen, Englishman AnatoleShut, Oh Oh Oh, English Wait, Anatole, Dolokhov, Englishman, Kuragin Listen, WaitPierre, Anatole, Eh Eh DolokhovPierre, Dolokhov, Anatole, EnglishmanPierre, Dolokhov, Fine, EnglishmanListen, Pierre Come, Bruin, Anatole WaitSoon Anna Pavlovna, Anna Pavlovna, Chapter X Prince Vasili, Rostovs, Bory, Guards, Emperor, Semenov Guards, Anna Mikhaylovna, Petersburg, Nataly Ever, Radzivilov St Natalia, BorisWell Dmitri, Dmitri VasilevichMarya Lvovna Karagina, Ask, Razumovski, Dear CountessAnna Pavlovna, Count Bezukhov, Bezukhov, Dolokhov, Anna Mikhaylovna Prince VasiliCount Yet, Moyka Canal, Dolokhov, Petersburg, Cyril Vladimirovich Bezukhov, Anatole Kuragin, Marya Ivanovna DolokhovaPierre, Prince Vasili, Count Cyril, Emperor, Anna MikhaylovnaBesides Cyril Vladimirovich, Yes, Vasili, Bory, Pierre Prince Vasili Forty, Count Cyril VladimirovichChapter, Ah, GuardsIlya, NatashaNicholas, Natasha, Anna Mikhaylovna, Sonya, Natasha Mimi, BorisNicholas, Mimi, Apraksina, Natasha, Dark, BorisMamma, Natasha, BorisChapter, Nicholas SonyaNicholas, Natasha Boris, BorisNicholas, Pavlograd Hussars, Buonaparte, Emperor Well, Papa, Rostov, Bonaparte Julie Karagina, Sonya, ArkharovsNicholas, Yes, Julie, Anna Mikhaylovna, SonyaNicholas, TakesVera, Yes, Boris, SalomoniVera, WellChapter, Sonya, Natasha, BorisNicholas, Sooonya Look, Natasha, Sonya, Sonya AhBoris, Boris Boris, Natasha Sonya NicholasNatasha, Boris Forever, TillChapter, Vera, Petersburg Anna Mikhaylovna, Anna MikhaylovnaNicholas, Sonya Natasha, Boris Natasha, Mamma, Though, Vera, SonyaBerg, Natasha Boris, Boris Natalya Ilynichna, Mamma, Natasha, Madame, Vera, BorisBerg, Genlis, Nicholas, Genlis Madame, Madame, Vera, Vera Nicholas"
     ]
    }
   ],
   "source": [
    "for name in df.Extracted_names:\n",
    "    if name:\n",
    "        for i in name:\n",
    "            print(i, end='')"
   ]
  },
  {
   "cell_type": "code",
   "execution_count": 97,
   "id": "9d80cbda",
   "metadata": {},
   "outputs": [
    {
     "data": {
      "text/plain": [
       "['ChapterPierre',\n",
       " 'Genlis',\n",
       " 'Count Bezukhov',\n",
       " 'Chapter IV',\n",
       " 'Calm Princess',\n",
       " 'Prince Vasili',\n",
       " 'Uncle',\n",
       " 'Saviour',\n",
       " 'Petya Good',\n",
       " 'Dolokhov',\n",
       " 'Anna Pavlovna Scherer',\n",
       " 'Imperial',\n",
       " 'Stevens',\n",
       " 'Madame',\n",
       " 'St Petersburg',\n",
       " 'Michael Ilarionovich Kutuzov',\n",
       " 'Milan',\n",
       " 'Prince Vasili KuraginPierre',\n",
       " 'WaitPierre',\n",
       " 'AntichristCount Prince',\n",
       " 'Annette Scherer Heavens',\n",
       " 'Kuragin DolokhovPierre',\n",
       " 'Prince Andrew Anna Pavlovna',\n",
       " 'Bezukhov',\n",
       " 'Prince Andrew MonsieurAnna Pavlovna',\n",
       " 'Kuragins',\n",
       " 'Annette',\n",
       " 'Cards',\n",
       " 'Freemason',\n",
       " 'Dowager Empress',\n",
       " 'Oh',\n",
       " 'Chapter',\n",
       " 'Princess HelenePrince Vasili',\n",
       " 'AnnetteEither',\n",
       " 'EmperorPierre',\n",
       " 'Caesar CommentariesPrince Andrew',\n",
       " 'Buonaparte',\n",
       " 'EnglishmanAnatole',\n",
       " 'Bonaparte',\n",
       " 'Natasha Sonya NicholasNatasha',\n",
       " 'Excuse',\n",
       " 'Vasili',\n",
       " 'Hercules',\n",
       " 'Bonaparte Julie Karagina',\n",
       " 'Haugwitz',\n",
       " 'Genlis Madame',\n",
       " 'Anna Mikhaylovna',\n",
       " 'Andrew NapoleonHippolyte',\n",
       " 'Mortemart Anna PavlovnaAnna Pavlovna',\n",
       " 'Lise PrincePrince Andrew',\n",
       " 'Prince Andrew',\n",
       " 'Eh Eh DolokhovPierre',\n",
       " 'Andrew Women',\n",
       " 'Apraksins',\n",
       " 'Dmitri VasilevichMarya Lvovna Karagina',\n",
       " 'Prince Hippolyte',\n",
       " 'Prince Anatole',\n",
       " 'Englishman',\n",
       " 'Mademoiselle George',\n",
       " 'Majesty',\n",
       " 'LiseHalfway',\n",
       " 'Sonya Natasha',\n",
       " 'Anatole',\n",
       " 'Allow',\n",
       " 'Count Cyril',\n",
       " 'Englishman AnatoleShut',\n",
       " 'Lise Meinen',\n",
       " 'Boris Forever',\n",
       " 'Pierre Pierre',\n",
       " 'Duc EnghienAnna Pavlovna Helene',\n",
       " 'GuardsIlya',\n",
       " 'LiseMon',\n",
       " 'Empress',\n",
       " 'FirstPierre',\n",
       " 'Prince HippolyteHippolyte',\n",
       " 'Sooonya Look',\n",
       " 'TakesVera',\n",
       " 'Dowager Empress Marya Fedorovna',\n",
       " 'Abbe MorioAnna Pavlovna',\n",
       " 'Anatole Pierre',\n",
       " 'Emperor Well',\n",
       " 'Anna PavlovnaHelene Wait',\n",
       " 'Monsieur Pierre',\n",
       " 'Bory',\n",
       " 'Boris Boris',\n",
       " 'Pierre Prince Vasili Forty',\n",
       " 'Mamma',\n",
       " 'Though',\n",
       " 'BolkonskiLise',\n",
       " 'Dark',\n",
       " 'Well',\n",
       " 'SonyaNicholas',\n",
       " 'Prince Vasili Anna Pavlovna OneYes',\n",
       " 'Anna MikhaylovnaBesides Cyril Vladimirovich',\n",
       " 'Anna PavlovnaAnna Pavlovna',\n",
       " 'Golitsyn',\n",
       " 'Apraksina',\n",
       " 'Evidently PierreHippolyte',\n",
       " 'Chapter IX',\n",
       " 'Andrew',\n",
       " 'KuraginSemenov',\n",
       " 'Rostovs',\n",
       " 'Jacobin',\n",
       " 'Anna PavlovnaPierre',\n",
       " 'AndrePrince Vasili Frenchman',\n",
       " 'Emperor',\n",
       " 'Semenov Guards',\n",
       " 'Petersburg Anna Mikhaylovna',\n",
       " 'Louis XV',\n",
       " 'SonyaBerg',\n",
       " 'MadameHippolyteAnna Pavlovna',\n",
       " 'Kuragin Listen',\n",
       " 'BourbonAnna Pavlovna',\n",
       " 'Natasha Mimi',\n",
       " 'Boris',\n",
       " 'BonapartePierre',\n",
       " 'Oh Oh Oh',\n",
       " 'EnglishmanListen',\n",
       " 'Prince',\n",
       " 'Duc EnghienPierre',\n",
       " 'ViennaLavaterMajesty',\n",
       " 'Rostov',\n",
       " 'Count Cyril VladimirovichChapter',\n",
       " 'Bonaparte Bonaparte',\n",
       " 'Frenchman',\n",
       " 'Anna PavlovnaVasili',\n",
       " 'Sonya',\n",
       " 'SalomoniVera',\n",
       " 'WellChapter',\n",
       " 'Duc EnghienAnna Pavlovna',\n",
       " 'Pavlograd Hussars',\n",
       " 'Dieu Mon Dieu',\n",
       " 'Neither',\n",
       " 'Prince AndrewPrince Andrew',\n",
       " 'Prince Andrew Russian',\n",
       " 'English Wait',\n",
       " 'Mortemart',\n",
       " 'Chapter VLouis XVII Queen Madame Elizabeth Nothing',\n",
       " 'Prince Hippolyte EnglishMonsieur Pierre',\n",
       " 'Boris Natasha',\n",
       " 'Papa',\n",
       " 'Anna Pavlovna SchererAlexander',\n",
       " 'Baton',\n",
       " 'Anna Pavlovna Pierre',\n",
       " 'Anatole Pierre Dolokhov',\n",
       " 'Nataly Ever',\n",
       " 'Razumovski',\n",
       " 'Prince Vasili Kuragin',\n",
       " 'Emperor Alexander',\n",
       " 'Fine',\n",
       " 'Vera',\n",
       " 'BorisBerg',\n",
       " 'Anatole Kuragin',\n",
       " 'WaitGoodby',\n",
       " 'Anna Pavlovna Rousseau ContratLiberty',\n",
       " 'Anatole WaitSoon Anna Pavlovna',\n",
       " 'Anna Mikhaylovna Prince VasiliCount Yet',\n",
       " 'Dear CountessAnna Pavlovna',\n",
       " 'Helene',\n",
       " 'Arcola',\n",
       " 'None EnglishPrussia',\n",
       " 'Nicholas',\n",
       " 'Dieu',\n",
       " 'Write',\n",
       " 'Marya Ivanovna DolokhovaPierre',\n",
       " 'Julie',\n",
       " 'Natasha',\n",
       " 'Radzivilov St Natalia',\n",
       " 'Abbe Morio',\n",
       " 'Pierre First',\n",
       " 'Anatole KuraginPierre',\n",
       " 'England AustriaAnna Pavlovna',\n",
       " 'Anna MikhaylovnaNicholas',\n",
       " 'NapoleonPierre',\n",
       " 'Hippolyte',\n",
       " 'Girl',\n",
       " 'EnglishmanPierre',\n",
       " 'PetersburgMorioChapter',\n",
       " 'Prince HippolyteMonsieur Pierre',\n",
       " 'Conde',\n",
       " 'Nicholas SonyaNicholas',\n",
       " 'Rumyantsev Prince Golitsyn',\n",
       " 'Vera Nicholas',\n",
       " 'Arrange',\n",
       " 'Sonya AhBoris',\n",
       " 'Capital',\n",
       " 'Prince Hippolyte PierreExcuse Vicomte',\n",
       " 'Mimi',\n",
       " 'Bruin',\n",
       " 'Guai',\n",
       " 'Goodby Prince',\n",
       " 'Chapter VIAnna Pavlovna',\n",
       " 'PetersburgPierre Prince',\n",
       " 'Marry',\n",
       " 'Bourbons',\n",
       " 'AnatolePresently',\n",
       " 'Genoa Lucca',\n",
       " 'SoyezAnna Pavlovna',\n",
       " 'Ask',\n",
       " 'Kuragin',\n",
       " 'Ah',\n",
       " 'ArkharovsNicholas',\n",
       " 'Stevens English',\n",
       " 'Napoleon',\n",
       " 'Prince AndrewPierre',\n",
       " 'Dolokhov Englishman',\n",
       " 'Mlle Scherer',\n",
       " 'Prince Andrew Prince',\n",
       " 'BorisChapter',\n",
       " 'Monsieur Buonaparte Monsieur Buonaparte',\n",
       " 'AttendezAnna Pavlovna',\n",
       " 'Bolkonski',\n",
       " 'Moyka Canal',\n",
       " 'Prince Hippolyte Fetch',\n",
       " 'Pierre',\n",
       " 'NatashaNicholas',\n",
       " 'Malta',\n",
       " 'Natasha Boris',\n",
       " 'Vicomte',\n",
       " 'Guards',\n",
       " 'Andre',\n",
       " 'Anatole Firstrate',\n",
       " 'Baron Funke',\n",
       " 'Petersburg',\n",
       " 'Believe PrincessListen Prince',\n",
       " 'Anatole Dolokhov',\n",
       " 'Jacob',\n",
       " 'Kutuzov',\n",
       " 'Empress Anna Pavlovna',\n",
       " 'Listen',\n",
       " 'Anna Pavlovna',\n",
       " 'BolkonskiPrince Andrew',\n",
       " 'Yes',\n",
       " 'Chapter X Prince Vasili',\n",
       " 'George Buonaparte Prince',\n",
       " 'BorisWell Dmitri',\n",
       " 'Lise',\n",
       " 'Petersburg Tell',\n",
       " 'BorisMamma',\n",
       " 'TillChapter',\n",
       " 'BorisNicholas',\n",
       " 'Cyril Vladimirovich Bezukhov',\n",
       " 'Anna Pavlovna EducateBoris Prince',\n",
       " 'Andrew Bolkonski',\n",
       " 'Horse Guards',\n",
       " 'Boris Natalya Ilynichna',\n",
       " 'Pierre Come',\n",
       " 'Jaffa',\n",
       " 'Abbe MorioMajesty',\n",
       " 'KutuzovAnna Pavlovna']"
      ]
     },
     "execution_count": 97,
     "metadata": {},
     "output_type": "execute_result"
    }
   ],
   "source": [
    "text = 'Anna Pavlovna, Anna Pavlovna Scherer, Prince Vasili Kuragin, Chapter, St Petersburg, AntichristCount Prince, Annette Scherer Heavens, Anna PavlovnaVasili, Well, Buonaparte, Anna Pavlovna SchererAlexander, Anna Pavlovna, Malta, Emperor, None EnglishPrussia, Mortemart, Emperor, Haugwitz, Abbe MorioAnna Pavlovna, Dowager Empress Marya Fedorovna, Vasili, Dowager Empress, Baron Funke, Majesty, Empress, Empress Anna Pavlovna, ViennaLavaterMajesty, Anna Pavlovna, AnatolePresently, Arrange, Anna Pavlovna, Annette, Lise Meinen, Emperor, Kutuzov, BolkonskiLise, Anna Pavlovna, AttendezAnna Pavlovna, Helene, Mortemart, Prince Vasili, Chapter, Abbe MorioMajesty, Anna PavlovnaAnna Pavlovna, SoyezAnna Pavlovna, Count Bezukhov, Pierre, Prince Vasili, Prince Vasili Anna Pavlovna OneYes, Anna Pavlovna, Pierre, Abbe Morio, FirstPierre, Anna Pavlovna, PetersburgMorioChapter, Anna Pavlovna, Mortemart Anna PavlovnaAnna Pavlovna, Buonaparte, Mortemart, Vicomte, Louis XV, Duc EnghienAnna Pavlovna Helene, Anna PavlovnaHelene Wait, Prince Hippolyte Fetch, Anna Pavlovna, MadameHippolyteAnna Pavlovna, Bonaparte, Napoleon, Prince Hippolyte, Mademoiselle George, Duc EnghienPierre, Anna PavlovnaPierre, Anna PavlovnaAnna Pavlovna, Chapter IV, Andrew Bolkonski, Prince, Lise, Frenchman, Kutuzov, BolkonskiPrince Andrew, George Buonaparte Prince, Pierre, Andrew, AndrePrince Vasili Frenchman, Anna Pavlovna, Prince Andrew, Pierre, Prince Vasili, Vicomte, Anna Pavlovna EducateBoris Prince, Prince Vasili, Guards, Emperor, Petersburg Tell, Rumyantsev Prince Golitsyn, Petersburg, Believe PrincessListen Prince, Anna Pavlovna, Golitsyn, Papa, Vasili, Princess HelenePrince Vasili, Guards, Anna Mikhaylovna, Michael Ilarionovich Kutuzov, Boris, WaitGoodby, Papa, Vasili, Anna Mikhaylovna, KutuzovAnna Pavlovna, Dieu, Guai, Andrew, Milan, Genoa Lucca, Monsieur Buonaparte Monsieur Buonaparte, Chapter VLouis XVII Queen Madame Elizabeth Nothing, Conde, Baton, BourbonAnna Pavlovna, Pierre, Bonaparte, Vicomte, Imperial, Emperor Alexander, Prince Andrew MonsieurAnna Pavlovna, Prince Andrew, Pierre, Andrew, Bonaparte, Monsieur Pierre, Napoleon, Duc EnghienAnna Pavlovna, Capital, Dieu Mon Dieu, Pierre, Anna Pavlovna Pierre, Bourbons, Prince Hippolyte EnglishMonsieur Pierre, Yes, Bourbons, Anna Pavlovna Rousseau ContratLiberty, Buonaparte, Anna Pavlovna, Pierre, Andrew, Saviour, NapoleonPierre, Jacobin, Prince Andrew, Prince Hippolyte PierreExcuse Vicomte, Hippolyte, Arcola, Pierre, Andrew, Jaffa, Prince Hippolyte, Andrew NapoleonHippolyte, Girl, Anna Pavlovna, Pierre, Oh, Prince HippolyteMonsieur Pierre, Pierre, Anna Pavlovna, Chapter VIAnna Pavlovna, Hippolyte, Prince Andrew, Write, Anatole, AnnetteEither, Prince HippolyteHippolyte, Prince Andrew Russian, Pierre, Allow, Prince HippolyteHippolyte, Prince Andrew, Pierre, Andrew, Mlle Scherer, Caesar CommentariesPrince Andrew, Pierre, Write, Horse Guards, Andrew, Freemason, PetersburgPierre Prince, Pierre, Andrew, England AustriaAnna Pavlovna, Pierre, Annette, Andrew, Excuse, Chapter, Evidently PierreHippolyte, Pierre, Annette, Andrew, Uncle, Andre, Apraksins, EmperorPierre, Prince AndrewPrince Andrew, Pierre, Andrew, Monsieur Pierre, Lise, Lise PrincePrince Andrew, Pierre, Calm Princess, Andrew, Goodby Prince, LiseMon, Dieu, LiseHalfway, Neither, Pierre, Andrew, Marry, Prince Andrew Prince, ChapterPierre, Bolkonski, Anna Pavlovna, Prince AndrewPierre, Prince Andrew Anna Pavlovna, Bonaparte Bonaparte, BonapartePierre, Andrew, Prince AndrewPierre, Andrew, Prince AndrewPrince Andrew, Andrew Women, Kuragins, Pierre, Anatole, Prince Vasili KuraginPierre, Chapter IX, Andrew, Prince Anatole, Kuragin, Anatole KuraginPierre, Horse Guards, Anatole, Cards, KuraginSemenov, Pierre, Bruin, Anatole Pierre, Anatole, Petya Good, Pierre First, Dolokhov, Stevens, Jacob, WaitPierre, Anatole, Stevens English, Anatole Pierre Dolokhov, EnglishmanAnatole, Pierre Pierre, Hercules, Dolokhov, Petersburg, Anatole Dolokhov, Kuragin DolokhovPierre, Dolokhov, Dolokhov Englishman, Anatole Firstrate, Englishman, Listen, Englishman AnatoleShut, Oh Oh Oh, English Wait, Anatole, Dolokhov, Englishman, Kuragin Listen, WaitPierre, Anatole, Eh Eh DolokhovPierre, Dolokhov, Anatole, EnglishmanPierre, Dolokhov, Fine, EnglishmanListen, Pierre Come, Bruin, Anatole WaitSoon Anna Pavlovna, Anna Pavlovna, Chapter X Prince Vasili, Rostovs, Bory, Guards, Emperor, Semenov Guards, Anna Mikhaylovna, Petersburg, Nataly Ever, Radzivilov St Natalia, BorisWell Dmitri, Dmitri VasilevichMarya Lvovna Karagina, Ask, Razumovski, Dear CountessAnna Pavlovna, Count Bezukhov, Bezukhov, Dolokhov, Anna Mikhaylovna Prince VasiliCount Yet, Moyka Canal, Dolokhov, Petersburg, Cyril Vladimirovich Bezukhov, Anatole Kuragin, Marya Ivanovna DolokhovaPierre, Prince Vasili, Count Cyril, Emperor, Anna MikhaylovnaBesides Cyril Vladimirovich, Yes, Vasili, Bory, Pierre Prince Vasili Forty, Count Cyril VladimirovichChapter, Ah, GuardsIlya, NatashaNicholas, Natasha, Anna Mikhaylovna, Sonya, Natasha Mimi, BorisNicholas, Mimi, Apraksina, Natasha, Dark, BorisMamma, Natasha, BorisChapter, Nicholas SonyaNicholas, Natasha Boris, BorisNicholas, Pavlograd Hussars, Buonaparte, Emperor Well, Papa, Rostov, Bonaparte Julie Karagina, Sonya, ArkharovsNicholas, Yes, Julie, Anna Mikhaylovna, SonyaNicholas, TakesVera, Yes, Boris, SalomoniVera, WellChapter, Sonya, Natasha, BorisNicholas, Sooonya Look, Natasha, Sonya, Sonya AhBoris, Boris Boris, Natasha Sonya NicholasNatasha, Boris Forever, TillChapter, Vera, Petersburg Anna Mikhaylovna, Anna MikhaylovnaNicholas, Sonya Natasha, Boris Natasha, Mamma, Though, Vera, SonyaBerg, Natasha Boris, Boris Natalya Ilynichna, Mamma, Natasha, Madame, Vera, BorisBerg, Genlis, Nicholas, Genlis Madame, Madame, Vera, Vera Nicholas'\n",
    "names_list =list(set(text.split(\", \")))\n",
    "names_list"
   ]
  },
  {
   "cell_type": "markdown",
   "id": "42073ff0",
   "metadata": {},
   "source": [
    "I have manually picked up some waste words as very less no of waste words are there"
   ]
  },
  {
   "cell_type": "code",
   "execution_count": 96,
   "id": "c1115c2e",
   "metadata": {},
   "outputs": [],
   "source": [
    "waste_word = ['Chapter IV','Milan','St Petersburg','Antichrist','Cards','Chapter','Oh','Excuse','Englishman','Majesty','Allow','Dark','Well','Chapter IX','Oh Oh Oh','EnglishmanListen','WellChapter','English Wait','Chapter VLouis XVII Queen Madame Elizabeth Nothing','Fine','Write','England AustriaAnna Pavlovna','Arrange','Goodby Prince','Chapter VIAnna Pavlovna','Ask','Ah','Guards','Listen','Yes', 'TillChapter','Till']"
   ]
  },
  {
   "cell_type": "markdown",
   "id": "91e7079c",
   "metadata": {},
   "source": [
    "Now I'll remove these words from the name col"
   ]
  },
  {
   "cell_type": "code",
   "execution_count": 98,
   "id": "ae721934",
   "metadata": {},
   "outputs": [],
   "source": [
    "def remove_waste_words(name):\n",
    "    if name is None:\n",
    "        return None  # Handle None values\n",
    "    name_parts = name.split(\", \")\n",
    "    clean_name = [part for part in name_parts if part not in waste_word]\n",
    "    return \", \".join(clean_name)\n",
    "\n",
    "\n",
    "# Apply the function to the 'names' column\n",
    "df['Extracted_names'] = df['Extracted_names'].apply(remove_waste_words)\n"
   ]
  },
  {
   "cell_type": "code",
   "execution_count": 100,
   "id": "fe55b333",
   "metadata": {},
   "outputs": [],
   "source": [
    "for index, row in df.iterrows():\n",
    "    content = row['Processed_Masked_Content']\n",
    "    names = row['Extracted_names']\n",
    "    \n",
    "    if names is not None:\n",
    "        names = names.split(', ')\n",
    "    else:\n",
    "        names = []\n",
    "    \n",
    "    tokens = nltk.word_tokenize(content)\n",
    "    \n",
    "    for i, token in enumerate(tokens):\n",
    "        if len(token) > 2 and token in names:\n",
    "            tokens[i] = token[0] + '*' * (len(token) - 2) + token[-1]\n",
    "    \n",
    "    masked_content = ' '.join(tokens)\n",
    "    df.at[index, 'Processed_Masked_Content'] = masked_content"
   ]
  },
  {
   "cell_type": "code",
   "execution_count": 104,
   "id": "bed69f32",
   "metadata": {},
   "outputs": [
    {
     "data": {
      "text/html": [
       "<div>\n",
       "<style scoped>\n",
       "    .dataframe tbody tr th:only-of-type {\n",
       "        vertical-align: middle;\n",
       "    }\n",
       "\n",
       "    .dataframe tbody tr th {\n",
       "        vertical-align: top;\n",
       "    }\n",
       "\n",
       "    .dataframe thead th {\n",
       "        text-align: right;\n",
       "    }\n",
       "</style>\n",
       "<table border=\"1\" class=\"dataframe\">\n",
       "  <thead>\n",
       "    <tr style=\"text-align: right;\">\n",
       "      <th></th>\n",
       "      <th>Page_Number</th>\n",
       "      <th>Page_Content</th>\n",
       "      <th>Processed_Masked_Content</th>\n",
       "      <th>Extracted_names</th>\n",
       "    </tr>\n",
       "  </thead>\n",
       "  <tbody>\n",
       "    <tr>\n",
       "      <th>0</th>\n",
       "      <td>1</td>\n",
       "      <td>\\nWar and Peace \\nLeo Tolstoy \\n \\n \\n \\n \\n ...</td>\n",
       "      <td>Chapter Well Prince Genoa Lucca family estates...</td>\n",
       "      <td>Anna Pavlovna, Anna Pavlovna Scherer, Prince V...</td>\n",
       "    </tr>\n",
       "    <tr>\n",
       "      <th>1</th>\n",
       "      <td>2</td>\n",
       "      <td>War and Peace \\n \\n2 of 2882 \\nBOOK ONE: 1805 \\n</td>\n",
       "      <td>nothing better Count Prince prospect spending ...</td>\n",
       "      <td>Count Prince, Annette Scherer Heavens, Anna Pa...</td>\n",
       "    </tr>\n",
       "    <tr>\n",
       "      <th>2</th>\n",
       "      <td>3</td>\n",
       "      <td>War and Peace \\n \\n3 of 2882 \\nChapter I \\n‘We...</td>\n",
       "      <td>fete English ambassador Today Wednesday must p...</td>\n",
       "      <td>Vasili, Buonaparte, Anna Pavlovna Scherer</td>\n",
       "    </tr>\n",
       "    <tr>\n",
       "      <th>3</th>\n",
       "      <td>4</td>\n",
       "      <td>War and Peace \\n \\n4 of 2882 \\n‘If you have no...</td>\n",
       "      <td>spoiled child continual consciousness charming...</td>\n",
       "      <td>Alexander, Anna Pavlovna, Malta, Emperor, None...</td>\n",
       "    </tr>\n",
       "    <tr>\n",
       "      <th>4</th>\n",
       "      <td>5</td>\n",
       "      <td>War and Peace \\n \\n5 of 2882 \\n‘And the fete a...</td>\n",
       "      <td>desires good mankind promised Nothing little p...</td>\n",
       "      <td>Prussia, Mortemart, Emperor, Haugwitz, Abbe Morio</td>\n",
       "    </tr>\n",
       "  </tbody>\n",
       "</table>\n",
       "</div>"
      ],
      "text/plain": [
       "   Page_Number                                       Page_Content  \\\n",
       "0            1   \\nWar and Peace \\nLeo Tolstoy \\n \\n \\n \\n \\n ...   \n",
       "1            2   War and Peace \\n \\n2 of 2882 \\nBOOK ONE: 1805 \\n   \n",
       "2            3  War and Peace \\n \\n3 of 2882 \\nChapter I \\n‘We...   \n",
       "3            4  War and Peace \\n \\n4 of 2882 \\n‘If you have no...   \n",
       "4            5  War and Peace \\n \\n5 of 2882 \\n‘And the fete a...   \n",
       "\n",
       "                            Processed_Masked_Content  \\\n",
       "0  Chapter Well Prince Genoa Lucca family estates...   \n",
       "1  nothing better Count Prince prospect spending ...   \n",
       "2  fete English ambassador Today Wednesday must p...   \n",
       "3  spoiled child continual consciousness charming...   \n",
       "4  desires good mankind promised Nothing little p...   \n",
       "\n",
       "                                     Extracted_names  \n",
       "0  Anna Pavlovna, Anna Pavlovna Scherer, Prince V...  \n",
       "1  Count Prince, Annette Scherer Heavens, Anna Pa...  \n",
       "2          Vasili, Buonaparte, Anna Pavlovna Scherer  \n",
       "3  Alexander, Anna Pavlovna, Malta, Emperor, None...  \n",
       "4  Prussia, Mortemart, Emperor, Haugwitz, Abbe Morio  "
      ]
     },
     "execution_count": 104,
     "metadata": {},
     "output_type": "execute_result"
    }
   ],
   "source": [
    "df.head(5)"
   ]
  },
  {
   "cell_type": "code",
   "execution_count": 101,
   "id": "c98a99c3",
   "metadata": {},
   "outputs": [
    {
     "data": {
      "text/plain": [
       "'around looked D******v standing window sill pale radiant face empty threw bottle Englishman caught neatly D******v jumped smelt strongly rum Well done Fine fellow bet Devil take came different sides Englishman took purse began counting money D******v stood frowning speak P****e jumped upon window sill Gentlemen wishes bet thing suddenly cried Even without bet Tell bring bottle Bring bottle Let let said D******v smiling next gone mad one would let go giddy even staircase exclaimed several voices drink Let bottle rum shouted P****e banging table determined drunken gesture preparing climb window seized arms strong everyone touched sent flying'"
      ]
     },
     "execution_count": 101,
     "metadata": {},
     "output_type": "execute_result"
    }
   ],
   "source": [
    "df['Processed_Masked_Content'].iloc[70]"
   ]
  },
  {
   "cell_type": "code",
   "execution_count": 103,
   "id": "fa39cd10",
   "metadata": {},
   "outputs": [
    {
     "data": {
      "text/plain": [
       "'Pierre, Dolokhov'"
      ]
     },
     "execution_count": 103,
     "metadata": {},
     "output_type": "execute_result"
    }
   ],
   "source": [
    "df['Extracted_names'].iloc[70]"
   ]
  },
  {
   "cell_type": "markdown",
   "id": "618809cc",
   "metadata": {},
   "source": [
    "### Project Steps\n",
    "\n",
    "1. Loaded a 1000-page PDF and extracted text content for the first 100 pages.\n",
    "2. Cleaned the text data by removing line breaks, page headers, and chapter headings.\n",
    "3. Removed extra spaces and punctuation marks to prepare the text for further processing.\n",
    "4. Extracted human names from the text using NLTK's named entity recognition.\n",
    "5. Manually removed some unwanted words from the extracted names.\n",
    "6. Masked the names in the processed text by replacing characters between the first and last character with asterisks.\n",
    "7. Created a DataFrame to store the page number, original content, processed and masked content, and extracted names.\n",
    "8. Applied the removal of waste words to the extracted names in the DataFrame.\n",
    "9. Iterated through the DataFrame rows and masked the names in the processed text.\n",
    "10. Checked the results with an example.\n"
   ]
  },
  {
   "cell_type": "code",
   "execution_count": null,
   "id": "5a559b51",
   "metadata": {},
   "outputs": [],
   "source": []
  },
  {
   "cell_type": "code",
   "execution_count": null,
   "id": "a01fc7d3",
   "metadata": {},
   "outputs": [],
   "source": []
  },
  {
   "cell_type": "code",
   "execution_count": null,
   "id": "2d974b36",
   "metadata": {},
   "outputs": [],
   "source": []
  },
  {
   "cell_type": "markdown",
   "id": "d7523516",
   "metadata": {},
   "source": [
    "The pre-processing i have done above is part by part approach. Below is a compact form: "
   ]
  },
  {
   "cell_type": "code",
   "execution_count": null,
   "id": "9af707f6",
   "metadata": {},
   "outputs": [],
   "source": [
    "import re\n",
    "import string\n",
    "import contractions\n",
    "\n",
    "cleaned_text_all = []\n",
    "\n",
    "pattern = r'War and Peace\\s+\\d+\\s+of\\s+\\d+'\n",
    "\n",
    "for page in page_text_all:\n",
    "    # Remove line breaks and the specified pattern\n",
    "    cleaned_text = re.sub(r'\\n|' + pattern, ' ', page)\n",
    "    cleaned_text_all.append(cleaned_text)\n",
    "\n",
    "# Add the pattern to remove chapter headings\n",
    "pattern = r'Chapter (I|II|III|IV|V|VI|VII|VIII|IX|X|XI|XII|XIII|XIV):'\n",
    "\n",
    "cleaned_doc_all = []\n",
    "\n",
    "for pages in cleaned_text_all:\n",
    "    cleaned_doc = re.sub(pattern, ' ', pages)\n",
    "    cleaned_doc_all.append(cleaned_doc)\n",
    "\n",
    "# Further processing\n",
    "final_text = cleaned_doc_all[2:]\n",
    "\n",
    "def process_text(text):\n",
    "    # Remove punctuation and apply contractions\n",
    "    text_without_punctuation = ''.join([word for word in text if word not in string.punctuation])\n",
    "    processed_text = contractions.fix(text_without_punctuation)\n",
    "    return processed_text\n",
    "\n",
    "processed_pages = list(map(process_text, final_text))\n",
    "\n",
    "# Remove special characters '‘' and '’'\n",
    "processed_text = list(map(lambda x: x.replace(\"‘\", \"\").replace(\"’\", \"\"), processed_pages))\n"
   ]
  }
 ],
 "metadata": {
  "kernelspec": {
   "display_name": "Python 3 (ipykernel)",
   "language": "python",
   "name": "python3"
  },
  "language_info": {
   "codemirror_mode": {
    "name": "ipython",
    "version": 3
   },
   "file_extension": ".py",
   "mimetype": "text/x-python",
   "name": "python",
   "nbconvert_exporter": "python",
   "pygments_lexer": "ipython3",
   "version": "3.11.4"
  }
 },
 "nbformat": 4,
 "nbformat_minor": 5
}
